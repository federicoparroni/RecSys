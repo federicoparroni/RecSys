{
 "cells": [
  {
   "cell_type": "markdown",
   "metadata": {},
   "source": [
    "### Imports"
   ]
  },
  {
   "cell_type": "code",
   "execution_count": null,
   "metadata": {},
   "outputs": [],
   "source": [
    "import os\n",
    "os.chdir(os.getcwd() + '/..')\n",
    "print(os.getcwd())\n",
    "\n",
    "import data.data as data\n",
    "import inout.importexport as imp\n",
    "import numpy as np\n",
    "import pandas as pd\n",
    "import xgboost as xgb\n",
    "import random\n",
    "import math\n",
    "from pandas.api.types import CategoricalDtype\n"
   ]
  },
  {
   "cell_type": "markdown",
   "metadata": {},
   "source": [
    "### Create the complete dataframe"
   ]
  },
  {
   "cell_type": "markdown",
   "metadata": {},
   "source": [
    "#### Read the recommendations from csv"
   ]
  },
  {
   "cell_type": "code",
   "execution_count": null,
   "metadata": {},
   "outputs": [],
   "source": [
    "raw_recs = imp.importcsv('submission/13-12-2018/gxboost25recommendations_12-17-23.csv', check_len=-1)\n",
    "\n",
    "print(raw_recs[0:2])"
   ]
  },
  {
   "cell_type": "markdown",
   "metadata": {},
   "source": [
    "#### Explode each row into multiple rows (one per interaction)"
   ]
  },
  {
   "cell_type": "code",
   "execution_count": null,
   "metadata": {
    "scrolled": true
   },
   "outputs": [],
   "source": [
    "recs_tracks = []\n",
    "for rec in raw_recs:\n",
    "    playlist_id = rec[0]\n",
    "    for t in rec[1:]:\n",
    "        recs_tracks.append([playlist_id, t])\n",
    "recs_df = pd.DataFrame(recs_tracks, columns=['playlist_id','track_id'])\n",
    "\n",
    "print(recs_df)"
   ]
  },
  {
   "cell_type": "markdown",
   "metadata": {},
   "source": [
    "#### Append the 'profile_length' column to the recommendation dataframe"
   ]
  },
  {
   "cell_type": "code",
   "execution_count": null,
   "metadata": {},
   "outputs": [],
   "source": [
    "target_ids = data.get_target_playlists()\n",
    "targetURM = data.get_urm_train_1()[target_ids]\n",
    "user_profile_lengths = np.array(targetURM.sum(axis=1)).flatten()\n",
    "profile_lengths_df = pd.DataFrame({'playlist_id': target_ids, 'profile_length': user_profile_lengths})\n",
    "\n",
    "print(profile_lengths_df.head(10))"
   ]
  },
  {
   "cell_type": "code",
   "execution_count": null,
   "metadata": {
    "scrolled": true
   },
   "outputs": [],
   "source": [
    "rec_lengths_df = recs_df.merge(profile_lengths_df, on='playlist_id')\n",
    "print(rec_lengths_df)"
   ]
  },
  {
   "cell_type": "markdown",
   "metadata": {},
   "source": [
    "#### Popularity feature"
   ]
  },
  {
   "cell_type": "code",
   "execution_count": null,
   "metadata": {
    "scrolled": true
   },
   "outputs": [],
   "source": [
    "df = data.get_playlists_df()\n",
    "popularity = df.groupby(['track_id']).size().reset_index(name='popularity')\n",
    "print(popularity)"
   ]
  },
  {
   "cell_type": "code",
   "execution_count": null,
   "metadata": {
    "scrolled": true
   },
   "outputs": [],
   "source": [
    "rec_pop_df = rec_lengths_df.join(popularity.set_index('track_id'), on='track_id')\n",
    "print(rec_pop_df)"
   ]
  },
  {
   "cell_type": "markdown",
   "metadata": {},
   "source": [
    "#### Append the 'label' column "
   ]
  },
  {
   "cell_type": "code",
   "execution_count": null,
   "metadata": {},
   "outputs": [],
   "source": [
    "urm_test = data.get_urm_test_1()\n",
    "test_labels = []\n",
    "\n",
    "last_playlist_id = -1\n",
    "for idx,row in recs_df.iterrows():\n",
    "    current_playlist_id = row['playlist_id']\n",
    "    track_id = row['track_id']\n",
    "    # cache the row of the urm test if same playlist of the previous iteration\n",
    "    if not current_playlist_id == last_playlist_id:\n",
    "        # tracks ids in the t row of urm test\n",
    "        tracks_ids = urm_test.getrow(current_playlist_id).nonzero()[1]\n",
    "        last_playlist_id = current_playlist_id\n",
    "    \n",
    "    test_labels.append(1 if track_id in tracks_ids else 0)\n",
    "\n",
    "test_labels_df = pd.DataFrame({'label': test_labels})"
   ]
  },
  {
   "cell_type": "code",
   "execution_count": null,
   "metadata": {
    "scrolled": true
   },
   "outputs": [],
   "source": [
    "rec_label_df = pd.concat([rec_pop_df, test_labels_df], axis=1)\n",
    "print(rec_label_df)"
   ]
  },
  {
   "cell_type": "markdown",
   "metadata": {},
   "source": [
    "#### Append the tracks features (album, artist, duration)"
   ]
  },
  {
   "cell_type": "code",
   "execution_count": null,
   "metadata": {},
   "outputs": [],
   "source": [
    "tdf = data.get_tracks_df()\n",
    "rec_feature_track_df = rec_label_df.join(tdf.set_index('track_id'), on='track_id')\n",
    "print(rec_feature_track_df)"
   ]
  },
  {
   "cell_type": "markdown",
   "metadata": {},
   "source": [
    "### I'm happy with the features gathered"
   ]
  },
  {
   "cell_type": "code",
   "execution_count": null,
   "metadata": {},
   "outputs": [],
   "source": [
    "feature_df = rec_feature_track_df"
   ]
  },
  {
   "cell_type": "markdown",
   "metadata": {},
   "source": [
    "### Split into train and test dataframes"
   ]
  },
  {
   "cell_type": "code",
   "execution_count": null,
   "metadata": {},
   "outputs": [],
   "source": [
    "def func(x):\n",
    "    n = x['label'].sum()\n",
    "    ones = x.loc[x['label'] == 1]\n",
    "    zeros = x.loc[x['label'] == 0].sample(n)\n",
    "    return pd.concat([ones,zeros])"
   ]
  },
  {
   "cell_type": "code",
   "execution_count": null,
   "metadata": {},
   "outputs": [],
   "source": [
    "full = feature_df.groupby(['playlist_id'], as_index=False).apply(func)"
   ]
  },
  {
   "cell_type": "code",
   "execution_count": null,
   "metadata": {},
   "outputs": [],
   "source": [
    "full = full.reset_index().drop(['level_0', 'level_1'], axis=1)"
   ]
  },
  {
   "cell_type": "code",
   "execution_count": null,
   "metadata": {},
   "outputs": [],
   "source": [
    "tgt = data.get_target_playlists()\n",
    "train_tgt = random.sample(tgt, math.floor(len(tgt)*0.8))\n",
    "test_tgt = list(set(tgt) - set(train_tgt))\n",
    "train = full.loc[full['playlist_id'].isin(train_tgt)]\n",
    "test = full.loc[full['playlist_id'].isin(test_tgt)]"
   ]
  },
  {
   "cell_type": "markdown",
   "metadata": {},
   "source": [
    "#### One hot encodings"
   ]
  },
  {
   "cell_type": "code",
   "execution_count": null,
   "metadata": {},
   "outputs": [],
   "source": [
    "to_concat_train = []\n",
    "to_concat_test = []\n",
    "to_onehot = ['album_id', 'artist_id', 'track_id', 'playlist_id']"
   ]
  },
  {
   "cell_type": "code",
   "execution_count": null,
   "metadata": {},
   "outputs": [],
   "source": [
    "def onehotize(full, df, str):\n",
    "    exp = full[str].unique()\n",
    "    print(len(exp))\n",
    "    df.loc[:, (str)] = df[str].astype(CategoricalDtype(categories = exp))\n",
    "    oh = pd.get_dummies(df[str], prefix=str).to_sparse(fill_value=0)\n",
    "    return oh"
   ]
  },
  {
   "cell_type": "code",
   "execution_count": null,
   "metadata": {
    "scrolled": true
   },
   "outputs": [],
   "source": [
    "for name in to_onehot:\n",
    "    to_concat_train.append(onehotize(full, train, name))\n",
    "    to_concat_test.append(onehotize(full, test, name))\n",
    "    train = train.drop(name, axis=1)\n",
    "    test = test.drop(name, axis=1)"
   ]
  },
  {
   "cell_type": "code",
   "execution_count": null,
   "metadata": {
    "scrolled": true
   },
   "outputs": [],
   "source": [
    "train = pd.concat(to_concat_train, axis=1)\n",
    "test = pd.concat(to_concat_test, axis=1)"
   ]
  },
  {
   "cell_type": "markdown",
   "metadata": {},
   "source": [
    "### Train with XGBoost"
   ]
  },
  {
   "cell_type": "code",
   "execution_count": null,
   "metadata": {},
   "outputs": [],
   "source": [
    "dtrain = xgb.DMatrix(oh1, [])"
   ]
  },
  {
   "cell_type": "code",
   "execution_count": null,
   "metadata": {},
   "outputs": [],
   "source": []
  }
 ],
 "metadata": {
  "kernelspec": {
   "display_name": "Python 3",
   "language": "python",
   "name": "python3"
  },
  "language_info": {
   "codemirror_mode": {
    "name": "ipython",
    "version": 3
   },
   "file_extension": ".py",
   "mimetype": "text/x-python",
   "name": "python",
   "nbconvert_exporter": "python",
   "pygments_lexer": "ipython3",
   "version": "3.7.1"
  }
 },
 "nbformat": 4,
 "nbformat_minor": 2
}
