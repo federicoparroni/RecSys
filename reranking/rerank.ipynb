{
 "cells": [
  {
   "cell_type": "markdown",
   "metadata": {},
   "source": [
    "# Import required data"
   ]
  },
  {
   "cell_type": "code",
   "execution_count": 1,
   "metadata": {},
   "outputs": [
    {
     "name": "stdout",
     "output_type": "stream",
     "text": [
      "/Users/federico/Documents/Repository/RecSys\n"
     ]
    }
   ],
   "source": [
    "import data.data as data\n",
    "import inout.importexport as imp\n",
    "import numpy as np\n",
    "import pandas as pd\n",
    "import xgboost as xgb\n",
    "import os\n",
    "os.chdir(os.getcwd() + '/..')\n",
    "print(os.getcwd())"
   ]
  },
  {
   "cell_type": "code",
   "execution_count": 2,
   "metadata": {},
   "outputs": [
    {
     "name": "stdout",
     "output_type": "stream",
     "text": [
      "[[7, 4492, 15779, 14714, 11257, 20242, 15167, 15908, 3648, 4469, 8749, 17154, 8985, 11641, 5309, 11636, 14400, 4189, 8275, 6615, 8362, 13123, 17780, 20443, 17495, 1063], [25, 4202, 699, 1900, 19134, 14338, 10438, 7077, 12768, 16869, 4899, 800, 2018, 4720, 11633, 10414, 11393, 18567, 11943, 15261, 19390, 12716, 11347, 1422, 7545, 1726]]\n"
     ]
    }
   ],
   "source": [
    "raw_recs = imp.importcsv('submission/13-12-2018/gxboost25recommendations_12-17-23.csv', check_len=-1)\n",
    "\n",
    "print(raw_recs[0:2])"
   ]
  },
  {
   "cell_type": "code",
   "execution_count": 5,
   "metadata": {},
   "outputs": [
    {
     "name": "stdout",
     "output_type": "stream",
     "text": [
      "   playlist_id  profile_length\n",
      "0            7              28\n",
      "1           25              13\n",
      "2           29              18\n",
      "3           34              24\n",
      "4           50               8\n",
      "5           52              16\n",
      "6           60               8\n",
      "7           64              12\n",
      "8           77              29\n",
      "9           80              18\n"
     ]
    }
   ],
   "source": [
    "target_ids = data.get_target_playlists()\n",
    "targetURM = data.get_urm_train_1()[target_ids]\n",
    "user_profile_lengths = np.array(targetURM.sum(axis=1)).flatten()\n",
    "profile_lengths_df = pd.DataFrame({'playlist_id': target_ids, 'profile_length': user_profile_lengths})\n",
    "\n",
    "print(profile_lengths_df.head(10))"
   ]
  },
  {
   "cell_type": "code",
   "execution_count": 6,
   "metadata": {},
   "outputs": [
    {
     "name": "stdout",
     "output_type": "stream",
     "text": [
      "   playlist_id                                         tracks_ids\n",
      "0            7  [4492, 15779, 14714, 11257, 20242, 15167, 1590...\n",
      "1           25  [4202, 699, 1900, 19134, 14338, 10438, 7077, 1...\n",
      "2           29  [8001, 2159, 8356, 12075, 17200, 56, 3903, 153...\n",
      "3           34  [9266, 14751, 15386, 20306, 1850, 14579, 19540...\n",
      "4           50  [13452, 20287, 20037, 15354, 19166, 5765, 8656...\n",
      "5           52  [9441, 8456, 8838, 17247, 14827, 19173, 18615,...\n",
      "6           60  [559, 4111, 17192, 18904, 8173, 19119, 1898, 3...\n",
      "7           64  [15038, 5604, 4914, 5726, 15547, 9717, 12507, ...\n",
      "8           77  [7478, 1461, 8985, 5947, 13542, 15498, 13808, ...\n",
      "9           80  [9168, 11063, 13987, 14683, 6, 18026, 10203, 9...\n"
     ]
    }
   ],
   "source": [
    "# group users\n",
    "recs_tracks = []\n",
    "for rec in raw_recs:\n",
    "    playlist_id = rec[0]\n",
    "    tracks = rec[1:]\n",
    "    recs_tracks.append(tracks)\n",
    "recs_df = pd.DataFrame({'playlist_id': target_ids, 'tracks_ids': recs_tracks})\n",
    "\n",
    "print(recs_df.head(10))"
   ]
  },
  {
   "cell_type": "code",
   "execution_count": null,
   "metadata": {},
   "outputs": [],
   "source": []
  }
 ],
 "metadata": {
  "kernelspec": {
   "display_name": "Python 3",
   "language": "python",
   "name": "python3"
  },
  "language_info": {
   "codemirror_mode": {
    "name": "ipython",
    "version": 3
   },
   "file_extension": ".py",
   "mimetype": "text/x-python",
   "name": "python",
   "nbconvert_exporter": "python",
   "pygments_lexer": "ipython3",
   "version": "3.7.1"
  }
 },
 "nbformat": 4,
 "nbformat_minor": 2
}
