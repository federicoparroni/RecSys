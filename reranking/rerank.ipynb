{
 "cells": [
  {
   "cell_type": "markdown",
   "metadata": {},
   "source": [
    "### Imports"
   ]
  },
  {
   "cell_type": "code",
   "execution_count": null,
   "metadata": {},
   "outputs": [],
   "source": [
    "import os\n",
    "os.chdir(os.getcwd() + '/..')\n",
    "print(os.getcwd())\n",
    "\n",
    "import data.data as data\n",
    "import inout.importexport as imp\n",
    "import numpy as np\n",
    "import pandas as pd\n",
    "import xgboost as xgb\n",
    "import random\n",
    "import math\n"
   ]
  },
  {
   "cell_type": "markdown",
   "metadata": {},
   "source": [
    "### Create the complete dataframe"
   ]
  },
  {
   "cell_type": "markdown",
   "metadata": {},
   "source": [
    "#### Read the recommendations from csv"
   ]
  },
  {
   "cell_type": "code",
   "execution_count": null,
   "metadata": {},
   "outputs": [],
   "source": [
    "raw_recs = imp.importcsv('submission/13-12-2018/gxboost25recommendations_12-17-23.csv', check_len=-1)\n",
    "\n",
    "print(raw_recs[0:2])"
   ]
  },
  {
   "cell_type": "markdown",
   "metadata": {},
   "source": [
    "#### Explode each row into multiple rows (one per interaction)"
   ]
  },
  {
   "cell_type": "code",
   "execution_count": null,
   "metadata": {
    "scrolled": true
   },
   "outputs": [],
   "source": [
    "recs_tracks = []\n",
    "for rec in raw_recs:\n",
    "    playlist_id = rec[0]\n",
    "    for t in rec[1:]:\n",
    "        recs_tracks.append([playlist_id, t])\n",
    "recs_df = pd.DataFrame(recs_tracks, columns=['playlist_id','track_id'])\n",
    "\n",
    "print(recs_df)"
   ]
  },
  {
   "cell_type": "markdown",
   "metadata": {},
   "source": [
    "#### Append the 'profile_length' column to the recommendation dataframe"
   ]
  },
  {
   "cell_type": "code",
   "execution_count": null,
   "metadata": {},
   "outputs": [],
   "source": [
    "target_ids = data.get_target_playlists()\n",
    "targetURM = data.get_urm_train_1()[target_ids]\n",
    "user_profile_lengths = np.array(targetURM.sum(axis=1)).flatten()\n",
    "profile_lengths_df = pd.DataFrame({'playlist_id': target_ids, 'profile_length': user_profile_lengths})\n",
    "\n",
    "print(profile_lengths_df.head(10))"
   ]
  },
  {
   "cell_type": "code",
   "execution_count": null,
   "metadata": {
    "scrolled": true
   },
   "outputs": [],
   "source": [
    "rec_lengths_df = recs_df.merge(profile_lengths_df, on='playlist_id')\n",
    "print(rec_lengths_df)"
   ]
  },
  {
   "cell_type": "markdown",
   "metadata": {},
   "source": [
    "#### Popularity feature"
   ]
  },
  {
   "cell_type": "code",
   "execution_count": null,
   "metadata": {
    "scrolled": true
   },
   "outputs": [],
   "source": [
    "df = data.get_playlists_df()\n",
    "popularity = df.groupby(['track_id']).size().reset_index(name='popularity')\n",
    "print(popularity)"
   ]
  },
  {
   "cell_type": "code",
   "execution_count": null,
   "metadata": {
    "scrolled": true
   },
   "outputs": [],
   "source": [
    "rec_pop_df = rec_lengths_df.join(popularity.set_index('track_id'), on='track_id')\n",
    "print(rec_pop_df)"
   ]
  },
  {
   "cell_type": "markdown",
   "metadata": {},
   "source": [
    "#### Append the 'label' column "
   ]
  },
  {
   "cell_type": "code",
   "execution_count": null,
   "metadata": {},
   "outputs": [],
   "source": [
    "urm_test = data.get_urm_test_1()\n",
    "test_labels = []\n",
    "\n",
    "last_playlist_id = -1\n",
    "for idx,row in recs_df.iterrows():\n",
    "    current_playlist_id = row['playlist_id']\n",
    "    track_id = row['track_id']\n",
    "    # cache the row of the urm test if same playlist of the previous iteration\n",
    "    if not current_playlist_id == last_playlist_id:\n",
    "        # tracks ids in the t row of urm test\n",
    "        tracks_ids = urm_test.getrow(current_playlist_id).nonzero()[1]\n",
    "        last_playlist_id = current_playlist_id\n",
    "    \n",
    "    test_labels.append(1 if track_id in tracks_ids else 0)\n",
    "\n",
    "test_labels_df = pd.DataFrame({'label': test_labels})"
   ]
  },
  {
   "cell_type": "code",
   "execution_count": null,
   "metadata": {
    "scrolled": true
   },
   "outputs": [],
   "source": [
    "rec_label_df = pd.concat([rec_pop_df, test_labels_df], axis=1)\n",
    "print(rec_label_df)"
   ]
  },
  {
   "cell_type": "markdown",
   "metadata": {},
   "source": [
    "### I'm happy with the features gathered"
   ]
  },
  {
   "cell_type": "code",
   "execution_count": null,
   "metadata": {},
   "outputs": [],
   "source": [
    "feature_df = rec_label_df"
   ]
  },
  {
   "cell_type": "markdown",
   "metadata": {},
   "source": [
    "### Split into train and test dataframes"
   ]
  },
  {
   "cell_type": "code",
   "execution_count": null,
   "metadata": {},
   "outputs": [],
   "source": [
    "def func(x):\n",
    "    n = x['label'].sum()\n",
    "    ones = x.loc[x['label'] == 1]\n",
    "    zeros = x.loc[x['label'] == 0].sample(n)\n",
    "    return pd.concat([ones,zeros])"
   ]
  },
  {
   "cell_type": "code",
   "execution_count": null,
   "metadata": {},
   "outputs": [],
   "source": [
    "full = feature_df.groupby(['playlist_id'], as_index=False).apply(func)"
   ]
  },
  {
   "cell_type": "code",
   "execution_count": null,
   "metadata": {},
   "outputs": [],
   "source": [
    "full = full.reset_index().drop(['level_0', 'level_1'], axis=1)"
   ]
  },
  {
   "cell_type": "code",
   "execution_count": null,
   "metadata": {},
   "outputs": [],
   "source": [
    "import data.data as d\n",
    "\n",
    "tgt = data.get_target_playlists()\n",
    "train_tgt = random.sample(tgt, math.floor(len(tgt)*0.8))\n",
    "test_tgt = list(set(tgt) - set(train_tgt))\n",
    "train = full.loc[full['playlist_id'].isin(train_tgt)]\n",
    "test = full.loc[full['playlist_id'].isin(test_tgt)]"
   ]
  },
  {
   "cell_type": "code",
   "execution_count": null,
   "metadata": {
    "scrolled": true
   },
   "outputs": [],
   "source": [
    "print(train)"
   ]
  },
  {
   "cell_type": "code",
   "execution_count": null,
   "metadata": {
    "scrolled": true
   },
   "outputs": [],
   "source": [
    "print(test)"
   ]
  },
  {
   "cell_type": "markdown",
   "metadata": {},
   "source": [
    "#### One hot encodings"
   ]
  },
  {
   "cell_type": "code",
   "execution_count": null,
   "metadata": {},
   "outputs": [],
   "source": [
    "to_concat_train = []\n",
    "to_concat_test = []"
   ]
  },
  {
   "cell_type": "code",
   "execution_count": null,
   "metadata": {
    "scrolled": true
   },
   "outputs": [],
   "source": [
    "oh_playlist_train = pd.get_dummies(train['playlist_id'], prefix='p').to_sparse(fill_value=0)\n",
    "oh_playlist_test = pd.get_dummies(test['playlist_id'], prefix='p').to_sparse(fill_value=0)\n",
    "to_concat_train.append(oh_playlist_train)\n",
    "to_concat_test.append(oh_playlist_test)\n",
    "train = train.drop(['playlist_id'], axis=1)\n",
    "test = test.drop(['playlist_id'], axis=1)"
   ]
  },
  {
   "cell_type": "code",
   "execution_count": null,
   "metadata": {},
   "outputs": [],
   "source": [
    "oh_track_train = pd.get_dummies(train['track_id'], prefix='t').to_sparse(fill_value=0)\n",
    "oh_track_test = pd.get_dummies(test['track_id'], prefix='t').to_sparse(fill_value=0)\n",
    "to_concat_train.append(oh_track_train)\n",
    "to_concat_test.append(oh_track_test)\n",
    "train = train.drop(['track_id'], axis=1)\n",
    "test = test.drop(['track_id'], axis=1)"
   ]
  },
  {
   "cell_type": "code",
   "execution_count": null,
   "metadata": {},
   "outputs": [],
   "source": [
    "to_concat_train.insert(0, train)\n",
    "to_concat_test.insert(0, test)"
   ]
  },
  {
   "cell_type": "code",
   "execution_count": null,
   "metadata": {
    "scrolled": true
   },
   "outputs": [],
   "source": [
    "train = pd.concat(to_concat_train, axis=1)\n",
    "test = pd.concat(to_concat_test, axis=1)"
   ]
  },
  {
   "cell_type": "code",
   "execution_count": null,
   "metadata": {},
   "outputs": [],
   "source": [
    "print(train)"
   ]
  },
  {
   "cell_type": "code",
   "execution_count": null,
   "metadata": {},
   "outputs": [],
   "source": [
    "print(test)"
   ]
  },
  {
   "cell_type": "markdown",
   "metadata": {},
   "source": [
    "### Train with XGBoost"
   ]
  },
  {
   "cell_type": "code",
   "execution_count": null,
   "metadata": {},
   "outputs": [],
   "source": [
    "dtrain = xgb.DMatrix(oh1, [])"
   ]
  },
  {
   "cell_type": "code",
   "execution_count": null,
   "metadata": {},
   "outputs": [],
   "source": []
  }
 ],
 "metadata": {
  "kernelspec": {
   "display_name": "Python 3",
   "language": "python",
   "name": "python3"
  },
  "language_info": {
   "codemirror_mode": {
    "name": "ipython",
    "version": 3
   },
   "file_extension": ".py",
   "mimetype": "text/x-python",
   "name": "python",
   "nbconvert_exporter": "python",
   "pygments_lexer": "ipython3",
   "version": "3.7.1"
  }
 },
 "nbformat": 4,
 "nbformat_minor": 2
}
