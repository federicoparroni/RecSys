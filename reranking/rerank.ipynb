{
 "cells": [
  {
   "cell_type": "markdown",
   "metadata": {},
   "source": [
    "### Import required data"
   ]
  },
  {
   "cell_type": "code",
   "execution_count": 1,
   "metadata": {},
   "outputs": [
    {
     "name": "stdout",
     "output_type": "stream",
     "text": [
      "/Users/federico/Documents/Repository/RecSys\n"
     ]
    }
   ],
   "source": [
    "import data.data as data\n",
    "import inout.importexport as imp\n",
    "import numpy as np\n",
    "import pandas as pd\n",
    "import xgboost as xgb\n",
    "import os\n",
    "os.chdir(os.getcwd() + '/..')\n",
    "print(os.getcwd())"
   ]
  },
  {
   "cell_type": "code",
   "execution_count": 2,
   "metadata": {},
   "outputs": [
    {
     "name": "stdout",
     "output_type": "stream",
     "text": [
      "[[7, 4492, 15779, 14714, 11257, 20242, 15167, 15908, 3648, 4469, 8749, 17154, 8985, 11641, 5309, 11636, 14400, 4189, 8275, 6615, 8362, 13123, 17780, 20443, 17495, 1063], [25, 4202, 699, 1900, 19134, 14338, 10438, 7077, 12768, 16869, 4899, 800, 2018, 4720, 11633, 10414, 11393, 18567, 11943, 15261, 19390, 12716, 11347, 1422, 7545, 1726]]\n"
     ]
    }
   ],
   "source": [
    "raw_recs = imp.importcsv('submission/13-12-2018/gxboost25recommendations_12-17-23.csv', check_len=-1)\n",
    "\n",
    "print(raw_recs[0:2])"
   ]
  },
  {
   "cell_type": "code",
   "execution_count": 3,
   "metadata": {},
   "outputs": [
    {
     "name": "stdout",
     "output_type": "stream",
     "text": [
      "   playlist_id  profile_length\n",
      "0            7              28\n",
      "1           25              13\n",
      "2           29              18\n",
      "3           34              24\n",
      "4           50               8\n",
      "5           52              16\n",
      "6           60               8\n",
      "7           64              12\n",
      "8           77              29\n",
      "9           80              18\n"
     ]
    }
   ],
   "source": [
    "target_ids = data.get_target_playlists()\n",
    "targetURM = data.get_urm_train_1()[target_ids]\n",
    "user_profile_lengths = np.array(targetURM.sum(axis=1)).flatten()\n",
    "profile_lengths_df = pd.DataFrame({'playlist_id': target_ids, 'profile_length': user_profile_lengths})\n",
    "\n",
    "print(profile_lengths_df.head(10))"
   ]
  },
  {
   "cell_type": "code",
   "execution_count": 12,
   "metadata": {},
   "outputs": [
    {
     "name": "stdout",
     "output_type": "stream",
     "text": [
      "    playlist_id  tracks_ids\n",
      "0             7        4492\n",
      "1             7       15779\n",
      "2             7       14714\n",
      "3             7       11257\n",
      "4             7       20242\n",
      "5             7       15167\n",
      "6             7       15908\n",
      "7             7        3648\n",
      "8             7        4469\n",
      "9             7        8749\n",
      "10            7       17154\n",
      "11            7        8985\n",
      "12            7       11641\n",
      "13            7        5309\n",
      "14            7       11636\n",
      "15            7       14400\n",
      "16            7        4189\n",
      "17            7        8275\n",
      "18            7        6615\n",
      "19            7        8362\n",
      "20            7       13123\n",
      "21            7       17780\n",
      "22            7       20443\n",
      "23            7       17495\n",
      "24            7        1063\n",
      "25           25        4202\n",
      "26           25         699\n",
      "27           25        1900\n",
      "28           25       19134\n",
      "29           25       14338\n",
      "30           25       10438\n",
      "31           25        7077\n",
      "32           25       12768\n",
      "33           25       16869\n",
      "34           25        4899\n",
      "35           25         800\n",
      "36           25        2018\n",
      "37           25        4720\n",
      "38           25       11633\n",
      "39           25       10414\n",
      "40           25       11393\n",
      "41           25       18567\n",
      "42           25       11943\n",
      "43           25       15261\n",
      "44           25       19390\n",
      "45           25       12716\n",
      "46           25       11347\n",
      "47           25        1422\n",
      "48           25        7545\n",
      "49           25        1726\n"
     ]
    }
   ],
   "source": [
    "# group users\n",
    "recs_tracks = []\n",
    "for rec in raw_recs:\n",
    "    playlist_id = rec[0]\n",
    "    for t in rec[1:]:\n",
    "        recs_tracks.append([playlist_id, t])\n",
    "recs_df = pd.DataFrame(recs_tracks, columns=['playlist_id','tracks_ids'])\n",
    "\n",
    "print(recs_df.head(50))"
   ]
  },
  {
   "cell_type": "code",
   "execution_count": 14,
   "metadata": {},
   "outputs": [
    {
     "name": "stdout",
     "output_type": "stream",
     "text": [
      "    playlist_id  tracks_ids  profile_length\n",
      "0             7        4492              28\n",
      "1             7       15779              28\n",
      "2             7       14714              28\n",
      "3             7       11257              28\n",
      "4             7       20242              28\n",
      "5             7       15167              28\n",
      "6             7       15908              28\n",
      "7             7        3648              28\n",
      "8             7        4469              28\n",
      "9             7        8749              28\n",
      "10            7       17154              28\n",
      "11            7        8985              28\n",
      "12            7       11641              28\n",
      "13            7        5309              28\n",
      "14            7       11636              28\n",
      "15            7       14400              28\n",
      "16            7        4189              28\n",
      "17            7        8275              28\n",
      "18            7        6615              28\n",
      "19            7        8362              28\n",
      "20            7       13123              28\n",
      "21            7       17780              28\n",
      "22            7       20443              28\n",
      "23            7       17495              28\n",
      "24            7        1063              28\n",
      "25           25        4202              13\n",
      "26           25         699              13\n",
      "27           25        1900              13\n",
      "28           25       19134              13\n",
      "29           25       14338              13\n",
      "30           25       10438              13\n",
      "31           25        7077              13\n",
      "32           25       12768              13\n",
      "33           25       16869              13\n",
      "34           25        4899              13\n",
      "35           25         800              13\n",
      "36           25        2018              13\n",
      "37           25        4720              13\n",
      "38           25       11633              13\n",
      "39           25       10414              13\n",
      "40           25       11393              13\n",
      "41           25       18567              13\n",
      "42           25       11943              13\n",
      "43           25       15261              13\n",
      "44           25       19390              13\n",
      "45           25       12716              13\n",
      "46           25       11347              13\n",
      "47           25        1422              13\n",
      "48           25        7545              13\n",
      "49           25        1726              13\n"
     ]
    }
   ],
   "source": [
    "# join profile lengths and recommendations\n",
    "rec_lengths_df = recs_df.merge(profile_lengths_df, on='playlist_id')\n",
    "print(rec_lengths_df.head(50))"
   ]
  },
  {
   "cell_type": "code",
   "execution_count": null,
   "metadata": {},
   "outputs": [],
   "source": []
  }
 ],
 "metadata": {
  "kernelspec": {
   "display_name": "Python 3",
   "language": "python",
   "name": "python3"
  },
  "language_info": {
   "codemirror_mode": {
    "name": "ipython",
    "version": 3
   },
   "file_extension": ".py",
   "mimetype": "text/x-python",
   "name": "python",
   "nbconvert_exporter": "python",
   "pygments_lexer": "ipython3",
   "version": "3.7.1"
  }
 },
 "nbformat": 4,
 "nbformat_minor": 2
}
